{
 "cells": [
  {
   "cell_type": "markdown",
   "id": "d4a58c8d",
   "metadata": {},
   "source": [
    "# Machine Learning Techniques\n",
    "In this notebook, we will apply a logistic regression model to predict whether a certain habit (e.g., 'Morning sunlight') affects sleep quality (e.g., 'REM sleep above average').\n",
    "\n",
    "Below is just an example to show the concept, but it can be applied to each feature in the project:\n"
   ]
  },
  {
   "cell_type": "code",
   "execution_count": 7,
   "id": "e5f5f9c8",
   "metadata": {},
   "outputs": [],
   "source": [
    "import pandas as pd\n",
    "from sklearn.model_selection import train_test_split, cross_val_score\n",
    "from sklearn.linear_model import LogisticRegression\n",
    "from sklearn.metrics import accuracy_score, confusion_matrix, classification_report\n",
    "\n",
    "# Load the datasets\n",
    "sleep_data = pd.read_csv('./processed_data/sleep_cycles.csv')\n",
    "habits_data = pd.read_csv('./processed_data/processed_habits_data.csv')\n",
    "\n",
    "# Convert 'date' columns to datetime format\n",
    "sleep_data['date'] = pd.to_datetime(sleep_data['date'], errors='coerce')\n",
    "habits_data['Date'] = pd.to_datetime(habits_data['Date'], errors='coerce')\n",
    "\n",
    "# Merge the datasets on the date columns\n",
    "merged_data = sleep_data.merge(habits_data, left_on='date', right_on='Date', how='inner')\n",
    "\n",
    "# Feature: Morning sunlight, Target: REM sleep above average\n",
    "merged_data['REM_above_avg'] = (merged_data['REM'] > merged_data['REM'].mean()).astype(int)\n",
    "X = merged_data[['Morning sunlight']]\n",
    "y = merged_data['REM_above_avg']\n",
    "\n",
    "# Split the data into training and testing sets\n",
    "X_train, X_test, y_train, y_test = train_test_split(X, y, test_size=0.2, random_state=42)"
   ]
  },
  {
   "cell_type": "code",
   "execution_count": 8,
   "id": "069fa7e0",
   "metadata": {},
   "outputs": [
    {
     "name": "stdout",
     "output_type": "stream",
     "text": [
      "Accuracy: 0.20\n",
      "Confusion Matrix:\n",
      "[[1 0]\n",
      " [4 0]]\n",
      "Classification Report:\n",
      "              precision    recall  f1-score   support\n",
      "\n",
      "           0       0.20      1.00      0.33         1\n",
      "           1       0.00      0.00      0.00         4\n",
      "\n",
      "    accuracy                           0.20         5\n",
      "   macro avg       0.10      0.50      0.17         5\n",
      "weighted avg       0.04      0.20      0.07         5\n",
      "\n"
     ]
    },
    {
     "name": "stderr",
     "output_type": "stream",
     "text": [
      "/Users/imran/Desktop/DSA/DSA_project/.venv/lib/python3.13/site-packages/sklearn/metrics/_classification.py:1565: UndefinedMetricWarning: Precision is ill-defined and being set to 0.0 in labels with no predicted samples. Use `zero_division` parameter to control this behavior.\n",
      "  _warn_prf(average, modifier, f\"{metric.capitalize()} is\", len(result))\n",
      "/Users/imran/Desktop/DSA/DSA_project/.venv/lib/python3.13/site-packages/sklearn/metrics/_classification.py:1565: UndefinedMetricWarning: Precision is ill-defined and being set to 0.0 in labels with no predicted samples. Use `zero_division` parameter to control this behavior.\n",
      "  _warn_prf(average, modifier, f\"{metric.capitalize()} is\", len(result))\n",
      "/Users/imran/Desktop/DSA/DSA_project/.venv/lib/python3.13/site-packages/sklearn/metrics/_classification.py:1565: UndefinedMetricWarning: Precision is ill-defined and being set to 0.0 in labels with no predicted samples. Use `zero_division` parameter to control this behavior.\n",
      "  _warn_prf(average, modifier, f\"{metric.capitalize()} is\", len(result))\n"
     ]
    }
   ],
   "source": [
    "# Train a logistic regression model\n",
    "model = LogisticRegression()\n",
    "model.fit(X_train, y_train)\n",
    "\n",
    "# Evaluate the model\n",
    "y_pred = model.predict(X_test)\n",
    "accuracy = accuracy_score(y_test, y_pred)\n",
    "conf_matrix = confusion_matrix(y_test, y_pred)\n",
    "\n",
    "print(f\"Accuracy: {accuracy:.2f}\")\n",
    "print(\"Confusion Matrix:\")\n",
    "print(conf_matrix)\n",
    "print(\"Classification Report:\")\n",
    "print(classification_report(y_test, y_pred))"
   ]
  },
  {
   "cell_type": "code",
   "execution_count": 9,
   "id": "eed422b4",
   "metadata": {},
   "outputs": [
    {
     "name": "stdout",
     "output_type": "stream",
     "text": [
      "Cross-Validation Accuracy: 0.45 ± 0.12\n"
     ]
    }
   ],
   "source": [
    "# Perform cross-validation\n",
    "cv_scores = cross_val_score(model, X, y, cv=5)\n",
    "print(f\"Cross-Validation Accuracy: {cv_scores.mean():.2f} ± {cv_scores.std():.2f}\")"
   ]
  },
  {
   "cell_type": "markdown",
   "id": "31f874d9",
   "metadata": {},
   "source": [
    "### Results:\n",
    "We built a model for predicting one of the metrics in our experiment, that is a model that will predict whether the morning sunlight on a given day will increase the REM sleep on that day.\n",
    "\n",
    "But due to the limited data in this project, of course the model is not accurate. But the overall concepts are applied for the model."
   ]
  }
 ],
 "metadata": {
  "language_info": {
   "name": "python"
  }
 },
 "nbformat": 4,
 "nbformat_minor": 5
}
